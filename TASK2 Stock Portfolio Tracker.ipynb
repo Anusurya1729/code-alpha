{
 "cells": [
  {
   "cell_type": "markdown",
   "id": "e686f328",
   "metadata": {},
   "source": [
    "# Stock Portfolio Tracker"
   ]
  },
  {
   "cell_type": "code",
   "execution_count": 41,
   "id": "1283423d",
   "metadata": {
    "scrolled": true
   },
   "outputs": [
    {
     "data": {
      "text/html": [
       "<div>\n",
       "<style scoped>\n",
       "    .dataframe tbody tr th:only-of-type {\n",
       "        vertical-align: middle;\n",
       "    }\n",
       "\n",
       "    .dataframe tbody tr th {\n",
       "        vertical-align: top;\n",
       "    }\n",
       "\n",
       "    .dataframe thead th {\n",
       "        text-align: right;\n",
       "    }\n",
       "</style>\n",
       "<table border=\"1\" class=\"dataframe\">\n",
       "  <thead>\n",
       "    <tr style=\"text-align: right;\">\n",
       "      <th></th>\n",
       "      <th>Date</th>\n",
       "      <th>ATVI</th>\n",
       "      <th>ADBE</th>\n",
       "      <th>AMD</th>\n",
       "      <th>ALXN</th>\n",
       "      <th>ALGN</th>\n",
       "      <th>GOOGL</th>\n",
       "    </tr>\n",
       "  </thead>\n",
       "  <tbody>\n",
       "    <tr>\n",
       "      <th>0</th>\n",
       "      <td>19-08-2004</td>\n",
       "      <td>50.050049</td>\n",
       "      <td>52.082081</td>\n",
       "      <td>48.028027</td>\n",
       "      <td>50.220219</td>\n",
       "      <td>50.220219</td>\n",
       "      <td>44659096</td>\n",
       "    </tr>\n",
       "    <tr>\n",
       "      <th>1</th>\n",
       "      <td>20-08-2004</td>\n",
       "      <td>50.555557</td>\n",
       "      <td>54.594597</td>\n",
       "      <td>50.300301</td>\n",
       "      <td>54.209209</td>\n",
       "      <td>54.209209</td>\n",
       "      <td>22834343</td>\n",
       "    </tr>\n",
       "    <tr>\n",
       "      <th>2</th>\n",
       "      <td>23-08-2004</td>\n",
       "      <td>55.430431</td>\n",
       "      <td>56.796799</td>\n",
       "      <td>54.579578</td>\n",
       "      <td>54.754753</td>\n",
       "      <td>54.754753</td>\n",
       "      <td>18256126</td>\n",
       "    </tr>\n",
       "    <tr>\n",
       "      <th>3</th>\n",
       "      <td>24-08-2004</td>\n",
       "      <td>55.675674</td>\n",
       "      <td>55.855858</td>\n",
       "      <td>51.836838</td>\n",
       "      <td>52.487488</td>\n",
       "      <td>52.487488</td>\n",
       "      <td>15247337</td>\n",
       "    </tr>\n",
       "    <tr>\n",
       "      <th>4</th>\n",
       "      <td>25-08-2004</td>\n",
       "      <td>52.532532</td>\n",
       "      <td>54.054054</td>\n",
       "      <td>51.991993</td>\n",
       "      <td>53.053055</td>\n",
       "      <td>53.053055</td>\n",
       "      <td>9188602</td>\n",
       "    </tr>\n",
       "    <tr>\n",
       "      <th>...</th>\n",
       "      <td>...</td>\n",
       "      <td>...</td>\n",
       "      <td>...</td>\n",
       "      <td>...</td>\n",
       "      <td>...</td>\n",
       "      <td>...</td>\n",
       "      <td>...</td>\n",
       "    </tr>\n",
       "    <tr>\n",
       "      <th>4426</th>\n",
       "      <td>18-03-2022</td>\n",
       "      <td>2668.489990</td>\n",
       "      <td>2724.879883</td>\n",
       "      <td>2645.169922</td>\n",
       "      <td>2722.510010</td>\n",
       "      <td>2722.510010</td>\n",
       "      <td>2223100</td>\n",
       "    </tr>\n",
       "    <tr>\n",
       "      <th>4427</th>\n",
       "      <td>21-03-2022</td>\n",
       "      <td>2723.270020</td>\n",
       "      <td>2741.000000</td>\n",
       "      <td>2681.850098</td>\n",
       "      <td>2722.030029</td>\n",
       "      <td>2722.030029</td>\n",
       "      <td>1341600</td>\n",
       "    </tr>\n",
       "    <tr>\n",
       "      <th>4428</th>\n",
       "      <td>22-03-2022</td>\n",
       "      <td>2722.030029</td>\n",
       "      <td>2821.000000</td>\n",
       "      <td>2722.030029</td>\n",
       "      <td>2797.360107</td>\n",
       "      <td>2797.360107</td>\n",
       "      <td>1774800</td>\n",
       "    </tr>\n",
       "    <tr>\n",
       "      <th>4429</th>\n",
       "      <td>23-03-2022</td>\n",
       "      <td>2774.050049</td>\n",
       "      <td>2791.770020</td>\n",
       "      <td>2756.699951</td>\n",
       "      <td>2765.510010</td>\n",
       "      <td>2765.510010</td>\n",
       "      <td>1257700</td>\n",
       "    </tr>\n",
       "    <tr>\n",
       "      <th>4430</th>\n",
       "      <td>24-03-2022</td>\n",
       "      <td>2784.000000</td>\n",
       "      <td>2832.379883</td>\n",
       "      <td>2755.010010</td>\n",
       "      <td>2831.439941</td>\n",
       "      <td>2831.439941</td>\n",
       "      <td>1317900</td>\n",
       "    </tr>\n",
       "  </tbody>\n",
       "</table>\n",
       "<p>4431 rows × 7 columns</p>\n",
       "</div>"
      ],
      "text/plain": [
       "            Date         ATVI         ADBE          AMD         ALXN  \\\n",
       "0     19-08-2004    50.050049    52.082081    48.028027    50.220219   \n",
       "1     20-08-2004    50.555557    54.594597    50.300301    54.209209   \n",
       "2     23-08-2004    55.430431    56.796799    54.579578    54.754753   \n",
       "3     24-08-2004    55.675674    55.855858    51.836838    52.487488   \n",
       "4     25-08-2004    52.532532    54.054054    51.991993    53.053055   \n",
       "...          ...          ...          ...          ...          ...   \n",
       "4426  18-03-2022  2668.489990  2724.879883  2645.169922  2722.510010   \n",
       "4427  21-03-2022  2723.270020  2741.000000  2681.850098  2722.030029   \n",
       "4428  22-03-2022  2722.030029  2821.000000  2722.030029  2797.360107   \n",
       "4429  23-03-2022  2774.050049  2791.770020  2756.699951  2765.510010   \n",
       "4430  24-03-2022  2784.000000  2832.379883  2755.010010  2831.439941   \n",
       "\n",
       "             ALGN     GOOGL  \n",
       "0       50.220219  44659096  \n",
       "1       54.209209  22834343  \n",
       "2       54.754753  18256126  \n",
       "3       52.487488  15247337  \n",
       "4       53.053055   9188602  \n",
       "...           ...       ...  \n",
       "4426  2722.510010   2223100  \n",
       "4427  2722.030029   1341600  \n",
       "4428  2797.360107   1774800  \n",
       "4429  2765.510010   1257700  \n",
       "4430  2831.439941   1317900  \n",
       "\n",
       "[4431 rows x 7 columns]"
      ]
     },
     "execution_count": 41,
     "metadata": {},
     "output_type": "execute_result"
    }
   ],
   "source": [
    "import numpy as np\n",
    "import pandas as pd\n",
    "import matplotlib. pyplot as plt\n",
    "import math\n",
    "#df=pd.DataFrame({'symbol':'GOOGL','start':'2024-06-10','end':'2024-06-17'},index=[0])\n",
    "df=pd.read_csv(r\"C:\\Users\\RJ\\Desktop\\Anusurya document\\GOOGL.csv\")\n",
    "df"
   ]
  },
  {
   "cell_type": "code",
   "execution_count": null,
   "id": "6da8bc52",
   "metadata": {},
   "outputs": [],
   "source": [
    "df=df.set_index(pd.DatetimeIndex(df['Date'].values))\n",
    "df.drop(['Date'],inplace=True,axis=1)\n",
    "df"
   ]
  },
  {
   "cell_type": "code",
   "execution_count": 43,
   "id": "39b07063",
   "metadata": {},
   "outputs": [
    {
     "data": {
      "text/html": [
       "<div>\n",
       "<style scoped>\n",
       "    .dataframe tbody tr th:only-of-type {\n",
       "        vertical-align: middle;\n",
       "    }\n",
       "\n",
       "    .dataframe tbody tr th {\n",
       "        vertical-align: top;\n",
       "    }\n",
       "\n",
       "    .dataframe thead th {\n",
       "        text-align: right;\n",
       "    }\n",
       "</style>\n",
       "<table border=\"1\" class=\"dataframe\">\n",
       "  <thead>\n",
       "    <tr style=\"text-align: right;\">\n",
       "      <th></th>\n",
       "      <th>ATVI</th>\n",
       "      <th>ADBE</th>\n",
       "      <th>AMD</th>\n",
       "      <th>ALXN</th>\n",
       "      <th>ALGN</th>\n",
       "      <th>GOOGL</th>\n",
       "    </tr>\n",
       "  </thead>\n",
       "  <tbody>\n",
       "    <tr>\n",
       "      <th>2004-08-19</th>\n",
       "      <td>50.050049</td>\n",
       "      <td>52.082081</td>\n",
       "      <td>48.028027</td>\n",
       "      <td>50.220219</td>\n",
       "      <td>50.220219</td>\n",
       "      <td>44659096</td>\n",
       "    </tr>\n",
       "    <tr>\n",
       "      <th>2004-08-20</th>\n",
       "      <td>50.555557</td>\n",
       "      <td>54.594597</td>\n",
       "      <td>50.300301</td>\n",
       "      <td>54.209209</td>\n",
       "      <td>54.209209</td>\n",
       "      <td>22834343</td>\n",
       "    </tr>\n",
       "    <tr>\n",
       "      <th>2004-08-23</th>\n",
       "      <td>55.430431</td>\n",
       "      <td>56.796799</td>\n",
       "      <td>54.579578</td>\n",
       "      <td>54.754753</td>\n",
       "      <td>54.754753</td>\n",
       "      <td>18256126</td>\n",
       "    </tr>\n",
       "    <tr>\n",
       "      <th>2004-08-24</th>\n",
       "      <td>55.675674</td>\n",
       "      <td>55.855858</td>\n",
       "      <td>51.836838</td>\n",
       "      <td>52.487488</td>\n",
       "      <td>52.487488</td>\n",
       "      <td>15247337</td>\n",
       "    </tr>\n",
       "    <tr>\n",
       "      <th>2004-08-25</th>\n",
       "      <td>52.532532</td>\n",
       "      <td>54.054054</td>\n",
       "      <td>51.991993</td>\n",
       "      <td>53.053055</td>\n",
       "      <td>53.053055</td>\n",
       "      <td>9188602</td>\n",
       "    </tr>\n",
       "    <tr>\n",
       "      <th>...</th>\n",
       "      <td>...</td>\n",
       "      <td>...</td>\n",
       "      <td>...</td>\n",
       "      <td>...</td>\n",
       "      <td>...</td>\n",
       "      <td>...</td>\n",
       "    </tr>\n",
       "    <tr>\n",
       "      <th>2022-03-18</th>\n",
       "      <td>2668.489990</td>\n",
       "      <td>2724.879883</td>\n",
       "      <td>2645.169922</td>\n",
       "      <td>2722.510010</td>\n",
       "      <td>2722.510010</td>\n",
       "      <td>2223100</td>\n",
       "    </tr>\n",
       "    <tr>\n",
       "      <th>2022-03-21</th>\n",
       "      <td>2723.270020</td>\n",
       "      <td>2741.000000</td>\n",
       "      <td>2681.850098</td>\n",
       "      <td>2722.030029</td>\n",
       "      <td>2722.030029</td>\n",
       "      <td>1341600</td>\n",
       "    </tr>\n",
       "    <tr>\n",
       "      <th>2022-03-22</th>\n",
       "      <td>2722.030029</td>\n",
       "      <td>2821.000000</td>\n",
       "      <td>2722.030029</td>\n",
       "      <td>2797.360107</td>\n",
       "      <td>2797.360107</td>\n",
       "      <td>1774800</td>\n",
       "    </tr>\n",
       "    <tr>\n",
       "      <th>2022-03-23</th>\n",
       "      <td>2774.050049</td>\n",
       "      <td>2791.770020</td>\n",
       "      <td>2756.699951</td>\n",
       "      <td>2765.510010</td>\n",
       "      <td>2765.510010</td>\n",
       "      <td>1257700</td>\n",
       "    </tr>\n",
       "    <tr>\n",
       "      <th>2022-03-24</th>\n",
       "      <td>2784.000000</td>\n",
       "      <td>2832.379883</td>\n",
       "      <td>2755.010010</td>\n",
       "      <td>2831.439941</td>\n",
       "      <td>2831.439941</td>\n",
       "      <td>1317900</td>\n",
       "    </tr>\n",
       "  </tbody>\n",
       "</table>\n",
       "<p>4431 rows × 6 columns</p>\n",
       "</div>"
      ],
      "text/plain": [
       "                   ATVI         ADBE          AMD         ALXN         ALGN  \\\n",
       "2004-08-19    50.050049    52.082081    48.028027    50.220219    50.220219   \n",
       "2004-08-20    50.555557    54.594597    50.300301    54.209209    54.209209   \n",
       "2004-08-23    55.430431    56.796799    54.579578    54.754753    54.754753   \n",
       "2004-08-24    55.675674    55.855858    51.836838    52.487488    52.487488   \n",
       "2004-08-25    52.532532    54.054054    51.991993    53.053055    53.053055   \n",
       "...                 ...          ...          ...          ...          ...   \n",
       "2022-03-18  2668.489990  2724.879883  2645.169922  2722.510010  2722.510010   \n",
       "2022-03-21  2723.270020  2741.000000  2681.850098  2722.030029  2722.030029   \n",
       "2022-03-22  2722.030029  2821.000000  2722.030029  2797.360107  2797.360107   \n",
       "2022-03-23  2774.050049  2791.770020  2756.699951  2765.510010  2765.510010   \n",
       "2022-03-24  2784.000000  2832.379883  2755.010010  2831.439941  2831.439941   \n",
       "\n",
       "               GOOGL  \n",
       "2004-08-19  44659096  \n",
       "2004-08-20  22834343  \n",
       "2004-08-23  18256126  \n",
       "2004-08-24  15247337  \n",
       "2004-08-25   9188602  \n",
       "...              ...  \n",
       "2022-03-18   2223100  \n",
       "2022-03-21   1341600  \n",
       "2022-03-22   1774800  \n",
       "2022-03-23   1257700  \n",
       "2022-03-24   1317900  \n",
       "\n",
       "[4431 rows x 6 columns]"
      ]
     },
     "execution_count": 43,
     "metadata": {},
     "output_type": "execute_result"
    }
   ],
   "source": [
    "df"
   ]
  },
  {
   "cell_type": "code",
   "execution_count": null,
   "id": "4056ac47",
   "metadata": {},
   "outputs": [],
   "source": []
  },
  {
   "cell_type": "code",
   "execution_count": 18,
   "id": "4bb8a4f7",
   "metadata": {},
   "outputs": [
    {
     "data": {
      "text/html": [
       "<div>\n",
       "<style scoped>\n",
       "    .dataframe tbody tr th:only-of-type {\n",
       "        vertical-align: middle;\n",
       "    }\n",
       "\n",
       "    .dataframe tbody tr th {\n",
       "        vertical-align: top;\n",
       "    }\n",
       "\n",
       "    .dataframe thead th {\n",
       "        text-align: right;\n",
       "    }\n",
       "</style>\n",
       "<table border=\"1\" class=\"dataframe\">\n",
       "  <thead>\n",
       "    <tr style=\"text-align: right;\">\n",
       "      <th></th>\n",
       "      <th>ATVI</th>\n",
       "      <th>ADBE</th>\n",
       "      <th>AMD</th>\n",
       "      <th>ALXN</th>\n",
       "      <th>ALGN</th>\n",
       "      <th>GOOGL</th>\n",
       "    </tr>\n",
       "  </thead>\n",
       "  <tbody>\n",
       "    <tr>\n",
       "      <th>2004-08-19</th>\n",
       "      <td>NaN</td>\n",
       "      <td>NaN</td>\n",
       "      <td>NaN</td>\n",
       "      <td>NaN</td>\n",
       "      <td>NaN</td>\n",
       "      <td>NaN</td>\n",
       "    </tr>\n",
       "    <tr>\n",
       "      <th>2004-08-20</th>\n",
       "      <td>0.010100</td>\n",
       "      <td>0.048241</td>\n",
       "      <td>0.047311</td>\n",
       "      <td>0.079430</td>\n",
       "      <td>0.079430</td>\n",
       "      <td>-0.488697</td>\n",
       "    </tr>\n",
       "    <tr>\n",
       "      <th>2004-08-23</th>\n",
       "      <td>0.096426</td>\n",
       "      <td>0.040337</td>\n",
       "      <td>0.085075</td>\n",
       "      <td>0.010064</td>\n",
       "      <td>0.010064</td>\n",
       "      <td>-0.200497</td>\n",
       "    </tr>\n",
       "    <tr>\n",
       "      <th>2004-08-24</th>\n",
       "      <td>0.004424</td>\n",
       "      <td>-0.016567</td>\n",
       "      <td>-0.050252</td>\n",
       "      <td>-0.041408</td>\n",
       "      <td>-0.041408</td>\n",
       "      <td>-0.164810</td>\n",
       "    </tr>\n",
       "    <tr>\n",
       "      <th>2004-08-25</th>\n",
       "      <td>-0.056454</td>\n",
       "      <td>-0.032258</td>\n",
       "      <td>0.002993</td>\n",
       "      <td>0.010775</td>\n",
       "      <td>0.010775</td>\n",
       "      <td>-0.397363</td>\n",
       "    </tr>\n",
       "    <tr>\n",
       "      <th>...</th>\n",
       "      <td>...</td>\n",
       "      <td>...</td>\n",
       "      <td>...</td>\n",
       "      <td>...</td>\n",
       "      <td>...</td>\n",
       "      <td>...</td>\n",
       "    </tr>\n",
       "    <tr>\n",
       "      <th>2022-03-18</th>\n",
       "      <td>0.002069</td>\n",
       "      <td>0.016136</td>\n",
       "      <td>0.000556</td>\n",
       "      <td>0.017084</td>\n",
       "      <td>0.017084</td>\n",
       "      <td>0.573097</td>\n",
       "    </tr>\n",
       "    <tr>\n",
       "      <th>2022-03-21</th>\n",
       "      <td>0.020528</td>\n",
       "      <td>0.005916</td>\n",
       "      <td>0.013867</td>\n",
       "      <td>-0.000176</td>\n",
       "      <td>-0.000176</td>\n",
       "      <td>-0.396518</td>\n",
       "    </tr>\n",
       "    <tr>\n",
       "      <th>2022-03-22</th>\n",
       "      <td>-0.000455</td>\n",
       "      <td>0.029186</td>\n",
       "      <td>0.014982</td>\n",
       "      <td>0.027674</td>\n",
       "      <td>0.027674</td>\n",
       "      <td>0.322898</td>\n",
       "    </tr>\n",
       "    <tr>\n",
       "      <th>2022-03-23</th>\n",
       "      <td>0.019111</td>\n",
       "      <td>-0.010362</td>\n",
       "      <td>0.012737</td>\n",
       "      <td>-0.011386</td>\n",
       "      <td>-0.011386</td>\n",
       "      <td>-0.291357</td>\n",
       "    </tr>\n",
       "    <tr>\n",
       "      <th>2022-03-24</th>\n",
       "      <td>0.003587</td>\n",
       "      <td>0.014546</td>\n",
       "      <td>-0.000613</td>\n",
       "      <td>0.023840</td>\n",
       "      <td>0.023840</td>\n",
       "      <td>0.047865</td>\n",
       "    </tr>\n",
       "  </tbody>\n",
       "</table>\n",
       "<p>4431 rows × 6 columns</p>\n",
       "</div>"
      ],
      "text/plain": [
       "                ATVI      ADBE       AMD      ALXN      ALGN     GOOGL\n",
       "2004-08-19       NaN       NaN       NaN       NaN       NaN       NaN\n",
       "2004-08-20  0.010100  0.048241  0.047311  0.079430  0.079430 -0.488697\n",
       "2004-08-23  0.096426  0.040337  0.085075  0.010064  0.010064 -0.200497\n",
       "2004-08-24  0.004424 -0.016567 -0.050252 -0.041408 -0.041408 -0.164810\n",
       "2004-08-25 -0.056454 -0.032258  0.002993  0.010775  0.010775 -0.397363\n",
       "...              ...       ...       ...       ...       ...       ...\n",
       "2022-03-18  0.002069  0.016136  0.000556  0.017084  0.017084  0.573097\n",
       "2022-03-21  0.020528  0.005916  0.013867 -0.000176 -0.000176 -0.396518\n",
       "2022-03-22 -0.000455  0.029186  0.014982  0.027674  0.027674  0.322898\n",
       "2022-03-23  0.019111 -0.010362  0.012737 -0.011386 -0.011386 -0.291357\n",
       "2022-03-24  0.003587  0.014546 -0.000613  0.023840  0.023840  0.047865\n",
       "\n",
       "[4431 rows x 6 columns]"
      ]
     },
     "execution_count": 18,
     "metadata": {},
     "output_type": "execute_result"
    }
   ],
   "source": [
    "daily_simple_returns=df.pct_change(1)\n",
    "daily_simple_returns"
   ]
  },
  {
   "cell_type": "code",
   "execution_count": 44,
   "id": "63294f23",
   "metadata": {},
   "outputs": [
    {
     "data": {
      "text/plain": [
       "ATVI    0.275202\n",
       "ADBE    0.262192\n",
       "AMD     0.270439\n",
       "ALXN    0.274963\n",
       "ALGN    0.274963\n",
       "dtype: float64"
      ]
     },
     "execution_count": 44,
     "metadata": {},
     "output_type": "execute_result"
    }
   ],
   "source": [
    "annual_returns=daily_simple_returns.mean()*252\n",
    "annual_returns"
   ]
  },
  {
   "cell_type": "code",
   "execution_count": 45,
   "id": "b723b7f3",
   "metadata": {},
   "outputs": [
    {
     "data": {
      "text/plain": [
       "ATVI    0.306259\n",
       "ADBE    0.265767\n",
       "AMD     0.283816\n",
       "ALXN    0.302935\n",
       "ALGN    0.302935\n",
       "dtype: float64"
      ]
     },
     "execution_count": 45,
     "metadata": {},
     "output_type": "execute_result"
    }
   ],
   "source": [
    "import math\n",
    "annual_risks=daily_simple_returns.std()*math.sqrt(252)\n",
    "annual_risks"
   ]
  },
  {
   "cell_type": "code",
   "execution_count": 46,
   "id": "399e3d39",
   "metadata": {},
   "outputs": [
    {
     "data": {
      "text/plain": [
       "ATVI    0.275202\n",
       "ALXN    0.274963\n",
       "ALGN    0.274963\n",
       "AMD     0.270439\n",
       "ADBE    0.262192\n",
       "dtype: float64"
      ]
     },
     "execution_count": 46,
     "metadata": {},
     "output_type": "execute_result"
    }
   ],
   "source": [
    "sorted_annualized_returns=annual_returns.sort_values(ascending=False)\n",
    "sorted_annualized_returns"
   ]
  },
  {
   "cell_type": "code",
   "execution_count": 47,
   "id": "efa6effe",
   "metadata": {},
   "outputs": [
    {
     "data": {
      "image/png": "[encoded data removed]",
      "text/plain": [
       "<Figure size 640x480 with 1 Axes>"
      ]
     },
     "metadata": {},
     "output_type": "display_data"
    }
   ],
   "source": [
    "plt.bar(sorted_annualized_returns.index,sorted_annualized_returns)\n",
    "plt.ylabel('Annualized Returns')\n",
    "plt.xlabel('Assets')\n",
    "plt.xticks(rotation=45)\n",
    "plt.title('Annualizrd Returns of Assets')\n",
    "plt.show()"
   ]
  },
  {
   "cell_type": "code",
   "execution_count": 48,
   "id": "a8bc6df6",
   "metadata": {},
   "outputs": [
    {
     "data": {
      "text/html": [
       "<div>\n",
       "<style scoped>\n",
       "    .dataframe tbody tr th:only-of-type {\n",
       "        vertical-align: middle;\n",
       "    }\n",
       "\n",
       "    .dataframe tbody tr th {\n",
       "        vertical-align: top;\n",
       "    }\n",
       "\n",
       "    .dataframe thead th {\n",
       "        text-align: right;\n",
       "    }\n",
       "</style>\n",
       "<table border=\"1\" class=\"dataframe\">\n",
       "  <thead>\n",
       "    <tr style=\"text-align: right;\">\n",
       "      <th></th>\n",
       "      <th>Expected Annual Returns</th>\n",
       "      <th>Expected Annual Risks</th>\n",
       "      <th>Company Tickers</th>\n",
       "      <th>Ratio</th>\n",
       "    </tr>\n",
       "  </thead>\n",
       "  <tbody>\n",
       "    <tr>\n",
       "      <th>ADBE</th>\n",
       "      <td>0.262192</td>\n",
       "      <td>0.265767</td>\n",
       "      <td>ADBE</td>\n",
       "      <td>0.986548</td>\n",
       "    </tr>\n",
       "    <tr>\n",
       "      <th>AMD</th>\n",
       "      <td>0.270439</td>\n",
       "      <td>0.283816</td>\n",
       "      <td>AMD</td>\n",
       "      <td>0.952866</td>\n",
       "    </tr>\n",
       "    <tr>\n",
       "      <th>ALXN</th>\n",
       "      <td>0.274963</td>\n",
       "      <td>0.302935</td>\n",
       "      <td>ALXN</td>\n",
       "      <td>0.907663</td>\n",
       "    </tr>\n",
       "    <tr>\n",
       "      <th>ALGN</th>\n",
       "      <td>0.274963</td>\n",
       "      <td>0.302935</td>\n",
       "      <td>ALGN</td>\n",
       "      <td>0.907663</td>\n",
       "    </tr>\n",
       "    <tr>\n",
       "      <th>ATVI</th>\n",
       "      <td>0.275202</td>\n",
       "      <td>0.306259</td>\n",
       "      <td>ATVI</td>\n",
       "      <td>0.898591</td>\n",
       "    </tr>\n",
       "  </tbody>\n",
       "</table>\n",
       "</div>"
      ],
      "text/plain": [
       "      Expected Annual Returns  Expected Annual Risks Company Tickers     Ratio\n",
       "ADBE                 0.262192               0.265767            ADBE  0.986548\n",
       "AMD                  0.270439               0.283816             AMD  0.952866\n",
       "ALXN                 0.274963               0.302935            ALXN  0.907663\n",
       "ALGN                 0.274963               0.302935            ALGN  0.907663\n",
       "ATVI                 0.275202               0.306259            ATVI  0.898591"
      ]
     },
     "execution_count": 48,
     "metadata": {},
     "output_type": "execute_result"
    }
   ],
   "source": [
    "df2=pd.DataFrame()\n",
    "df2['Expected Annual Returns']=annual_returns\n",
    "df2['Expected Annual Risks']=annual_risks\n",
    "df2['Company Tickers']=df2.index\n",
    "df2['Ratio']=df2['Expected Annual Returns']/df2['Expected Annual Risks']\n",
    "df2.sort_values(by='Ratio',axis=0,ascending=False,inplace=False)"
   ]
  },
  {
   "cell_type": "code",
   "execution_count": 49,
   "id": "15efd709",
   "metadata": {},
   "outputs": [
    {
     "data": {
      "image/png": "[encoded data removed]",
      "text/plain": [
       "<Figure size 1500x1000 with 1 Axes>"
      ]
     },
     "metadata": {},
     "output_type": "display_data"
    }
   ],
   "source": [
    "fig, ax=plt.subplots(figsize=(15,10))\n",
    "plt.title('Expected Annual Returns vs Expected Annual Risks')\n",
    "ax.scatter(df2['Expected Annual Risks'],df2['Expected Annual Returns'],c='DarkBlue')\n",
    "ax.set_xlabel('Expected Annual Risks')\n",
    "ax.set_ylabel('Expected Annual Returns')\n",
    "for idx,row in df2.iterrows():\n",
    "  ax.annotate(row['Company Tickers'],(row['Expected Annual Risks'],row['Expected Annual Returns']),c='green')\n",
    "plt.show()"
   ]
  },
  {
   "cell_type": "code",
   "execution_count": 50,
   "id": "d792811c",
   "metadata": {},
   "outputs": [
    {
     "data": {
      "text/html": [
       "<div>\n",
       "<style scoped>\n",
       "    .dataframe tbody tr th:only-of-type {\n",
       "        vertical-align: middle;\n",
       "    }\n",
       "\n",
       "    .dataframe tbody tr th {\n",
       "        vertical-align: top;\n",
       "    }\n",
       "\n",
       "    .dataframe thead th {\n",
       "        text-align: right;\n",
       "    }\n",
       "</style>\n",
       "<table border=\"1\" class=\"dataframe\">\n",
       "  <thead>\n",
       "    <tr style=\"text-align: right;\">\n",
       "      <th></th>\n",
       "      <th>Expected Annual Returns</th>\n",
       "      <th>Expected Annual Risks</th>\n",
       "      <th>Company Tickers</th>\n",
       "      <th>Ratio</th>\n",
       "    </tr>\n",
       "  </thead>\n",
       "  <tbody>\n",
       "  </tbody>\n",
       "</table>\n",
       "</div>"
      ],
      "text/plain": [
       "Empty DataFrame\n",
       "Columns: [Expected Annual Returns, Expected Annual Risks, Company Tickers, Ratio]\n",
       "Index: []"
      ]
     },
     "execution_count": 50,
     "metadata": {},
     "output_type": "execute_result"
    }
   ],
   "source": [
    "row='ADBE'\n",
    "df2.loc[(df2['Expected Annual Returns']>df2['Expected Annual Returns'][row])&(df2['Expected Annual Risks']<df2['Expected Annual Returns'][row])]"
   ]
  },
  {
   "cell_type": "code",
   "execution_count": 51,
   "id": "0db1e2be",
   "metadata": {},
   "outputs": [],
   "source": [
    "remove_asset_list=[]\n",
    "for ticker in df2['Company Tickers'].values:\n",
    "  no_better_assets_exists=df2.loc[(df2['Expected Annual Returns']>df2['Expected Annual Returns'][ticker])]\n",
    "if any(no_better_assets_exists):\n",
    "  remove_asset_list.append(ticker)"
   ]
  },
  {
   "cell_type": "code",
   "execution_count": 52,
   "id": "a646b11e",
   "metadata": {},
   "outputs": [
    {
     "data": {
      "text/plain": [
       "['ALGN']"
      ]
     },
     "execution_count": 52,
     "metadata": {},
     "output_type": "execute_result"
    }
   ],
   "source": [
    "remove_asset_list"
   ]
  },
  {
   "cell_type": "code",
   "execution_count": 53,
   "id": "58922ad8",
   "metadata": {},
   "outputs": [
    {
     "data": {
      "text/html": [
       "<div>\n",
       "<style scoped>\n",
       "    .dataframe tbody tr th:only-of-type {\n",
       "        vertical-align: middle;\n",
       "    }\n",
       "\n",
       "    .dataframe tbody tr th {\n",
       "        vertical-align: top;\n",
       "    }\n",
       "\n",
       "    .dataframe thead th {\n",
       "        text-align: right;\n",
       "    }\n",
       "</style>\n",
       "<table border=\"1\" class=\"dataframe\">\n",
       "  <thead>\n",
       "    <tr style=\"text-align: right;\">\n",
       "      <th></th>\n",
       "      <th>Expected Annual Returns</th>\n",
       "      <th>Expected Annual Risks</th>\n",
       "      <th>Company Tickers</th>\n",
       "      <th>Ratio</th>\n",
       "    </tr>\n",
       "  </thead>\n",
       "  <tbody>\n",
       "    <tr>\n",
       "      <th>ATVI</th>\n",
       "      <td>0.275202</td>\n",
       "      <td>0.306259</td>\n",
       "      <td>ATVI</td>\n",
       "      <td>0.898591</td>\n",
       "    </tr>\n",
       "    <tr>\n",
       "      <th>ADBE</th>\n",
       "      <td>0.262192</td>\n",
       "      <td>0.265767</td>\n",
       "      <td>ADBE</td>\n",
       "      <td>0.986548</td>\n",
       "    </tr>\n",
       "    <tr>\n",
       "      <th>AMD</th>\n",
       "      <td>0.270439</td>\n",
       "      <td>0.283816</td>\n",
       "      <td>AMD</td>\n",
       "      <td>0.952866</td>\n",
       "    </tr>\n",
       "    <tr>\n",
       "      <th>ALXN</th>\n",
       "      <td>0.274963</td>\n",
       "      <td>0.302935</td>\n",
       "      <td>ALXN</td>\n",
       "      <td>0.907663</td>\n",
       "    </tr>\n",
       "  </tbody>\n",
       "</table>\n",
       "</div>"
      ],
      "text/plain": [
       "      Expected Annual Returns  Expected Annual Risks Company Tickers     Ratio\n",
       "ATVI                 0.275202               0.306259            ATVI  0.898591\n",
       "ADBE                 0.262192               0.265767            ADBE  0.986548\n",
       "AMD                  0.270439               0.283816             AMD  0.952866\n",
       "ALXN                 0.274963               0.302935            ALXN  0.907663"
      ]
     },
     "execution_count": 53,
     "metadata": {},
     "output_type": "execute_result"
    }
   ],
   "source": [
    "df2.drop(remove_asset_list, inplace=True)\n",
    "df2"
   ]
  },
  {
   "cell_type": "code",
   "execution_count": 54,
   "id": "8fdfb05d",
   "metadata": {},
   "outputs": [],
   "source": [
    "assets=df2.index\n",
    "num_assets=len(assets)"
   ]
  },
  {
   "cell_type": "code",
   "execution_count": 55,
   "id": "1146c131",
   "metadata": {},
   "outputs": [
    {
     "data": {
      "text/plain": [
       "4"
      ]
     },
     "execution_count": 55,
     "metadata": {},
     "output_type": "execute_result"
    }
   ],
   "source": [
    "num_assets"
   ]
  },
  {
   "cell_type": "code",
   "execution_count": 59,
   "id": "e263541f",
   "metadata": {},
   "outputs": [],
   "source": [
    "#calculate the new simple daily returns\n",
    "daily_simple_returns=df[assets].pct_change(1)\n",
    "#calculate the new annual returns\n",
    "annual_returns=daily_simple_returns.mean()*252"
   ]
  },
  {
   "cell_type": "code",
   "execution_count": 57,
   "id": "90055eb6",
   "metadata": {},
   "outputs": [],
   "source": [
    "#create weights\n",
    "n=1.0/float(num_assets)\n",
    "weights=[n]*num_assets\n",
    "weights=np.array(weights)"
   ]
  },
  {
   "cell_type": "code",
   "execution_count": 58,
   "id": "386aafac",
   "metadata": {},
   "outputs": [
    {
     "data": {
      "text/plain": [
       "array([0.25, 0.25, 0.25, 0.25])"
      ]
     },
     "execution_count": 58,
     "metadata": {},
     "output_type": "execute_result"
    }
   ],
   "source": [
    "#show the weights\n",
    "weights"
   ]
  },
  {
   "cell_type": "code",
   "execution_count": 60,
   "id": "011671ad",
   "metadata": {},
   "outputs": [
    {
     "data": {
      "text/html": [
       "<div>\n",
       "<style scoped>\n",
       "    .dataframe tbody tr th:only-of-type {\n",
       "        vertical-align: middle;\n",
       "    }\n",
       "\n",
       "    .dataframe tbody tr th {\n",
       "        vertical-align: top;\n",
       "    }\n",
       "\n",
       "    .dataframe thead th {\n",
       "        text-align: right;\n",
       "    }\n",
       "</style>\n",
       "<table border=\"1\" class=\"dataframe\">\n",
       "  <thead>\n",
       "    <tr style=\"text-align: right;\">\n",
       "      <th></th>\n",
       "      <th>ATVI</th>\n",
       "      <th>ADBE</th>\n",
       "      <th>AMD</th>\n",
       "      <th>ALXN</th>\n",
       "    </tr>\n",
       "  </thead>\n",
       "  <tbody>\n",
       "    <tr>\n",
       "      <th>ATVI</th>\n",
       "      <td>0.093795</td>\n",
       "      <td>0.061181</td>\n",
       "      <td>0.062719</td>\n",
       "      <td>0.033012</td>\n",
       "    </tr>\n",
       "    <tr>\n",
       "      <th>ADBE</th>\n",
       "      <td>0.061181</td>\n",
       "      <td>0.070632</td>\n",
       "      <td>0.057434</td>\n",
       "      <td>0.058127</td>\n",
       "    </tr>\n",
       "    <tr>\n",
       "      <th>AMD</th>\n",
       "      <td>0.062719</td>\n",
       "      <td>0.057434</td>\n",
       "      <td>0.080552</td>\n",
       "      <td>0.061884</td>\n",
       "    </tr>\n",
       "    <tr>\n",
       "      <th>ALXN</th>\n",
       "      <td>0.033012</td>\n",
       "      <td>0.058127</td>\n",
       "      <td>0.061884</td>\n",
       "      <td>0.091770</td>\n",
       "    </tr>\n",
       "  </tbody>\n",
       "</table>\n",
       "</div>"
      ],
      "text/plain": [
       "          ATVI      ADBE       AMD      ALXN\n",
       "ATVI  0.093795  0.061181  0.062719  0.033012\n",
       "ADBE  0.061181  0.070632  0.057434  0.058127\n",
       "AMD   0.062719  0.057434  0.080552  0.061884\n",
       "ALXN  0.033012  0.058127  0.061884  0.091770"
      ]
     },
     "execution_count": 60,
     "metadata": {},
     "output_type": "execute_result"
    }
   ],
   "source": [
    "#calculate and show the covariance matrix\n",
    "cov_matrix_annual=daily_simple_returns.cov()*252\n",
    "cov_matrix_annual"
   ]
  },
  {
   "cell_type": "code",
   "execution_count": 61,
   "id": "d00fcce7",
   "metadata": {},
   "outputs": [
    {
     "data": {
      "text/plain": [
       "0.06284139487275935"
      ]
     },
     "execution_count": 61,
     "metadata": {},
     "output_type": "execute_result"
    }
   ],
   "source": [
    "#calculate and show the annual variance\n",
    "port_variance=np.dot(weights.T,np.dot(cov_matrix_annual,weights))\n",
    "port_variance"
   ]
  },
  {
   "cell_type": "code",
   "execution_count": 62,
   "id": "7a7269bb",
   "metadata": {},
   "outputs": [
    {
     "data": {
      "text/plain": [
       "0.06284139487275935"
      ]
     },
     "execution_count": 62,
     "metadata": {},
     "output_type": "execute_result"
    }
   ],
   "source": [
    "#calculate the show the portfolio annual volatility or risk\n",
    "port_volatility=np.sqrt(port_variance)\n",
    "port_variance"
   ]
  },
  {
   "cell_type": "code",
   "execution_count": 63,
   "id": "1cec7842",
   "metadata": {},
   "outputs": [
    {
     "name": "stdout",
     "output_type": "stream",
     "text": [
      "27.07%\n"
     ]
    }
   ],
   "source": [
    "#calculate and show the expected returns\n",
    "port_returns_expected=np.sum(weights*annual_returns)\n",
    "#show the expected returns as a percentage\n",
    "print(str(round(port_returns_expected*100, 2))+'%')"
   ]
  },
  {
   "cell_type": "code",
   "execution_count": null,
   "id": "be2c8ee5",
   "metadata": {},
   "outputs": [],
   "source": []
  },
  {
   "cell_type": "code",
   "execution_count": null,
   "id": "8a5dde8c",
   "metadata": {},
   "outputs": [],
   "source": []
  }
 ],
 "metadata": {
  "kernelspec": {
   "display_name": "Python 3 (ipykernel)",
   "language": "python",
   "name": "python3"
  },
  "language_info": {
   "codemirror_mode": {
    "name": "ipython",
    "version": 3
   },
   "file_extension": ".py",
   "mimetype": "text/x-python",
   "name": "python",
   "nbconvert_exporter": "python",
   "pygments_lexer": "ipython3",
   "version": "3.9.13"
  }
 },
 "nbformat": 4,
 "nbformat_minor": 5
}
